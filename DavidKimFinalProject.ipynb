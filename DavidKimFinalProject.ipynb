{
 "cells": [
  {
   "cell_type": "markdown",
   "metadata": {},
   "source": [
    "# Best Neighborhood\n"
   ]
  },
  {
   "cell_type": "markdown",
   "metadata": {},
   "source": [
    "## Metric: Population Density \n",
    "\n",
    "We all know our friendly neighborhood Spider-Man but he can't work if there's no one for him to help or if there's too many people for him to help at the same time. That is why my metric is on the population density of each neighborhood to accurately reflect which neighborhood Spider-Man would be most comfortable in. "
   ]
  },
  {
   "cell_type": "code",
   "execution_count": null,
   "metadata": {},
   "outputs": [],
   "source": [
    "import geopandas as gpd\n",
    "import pandas as pd\n",
    "import matplotlib.pyplot as plt\n",
    "import numpy as np"
   ]
  },
  {
   "cell_type": "code",
   "execution_count": null,
   "metadata": {},
   "outputs": [],
   "source": [
    "#Dataset for Area and Size of the Neighborhoods\n",
    "\n",
    "url2 = \"https://data.wprdc.org/datastore/dump/668d7238-cfd2-492e-b397-51a6e74182ff\"\n",
    "area = pd.read_csv(url2)"
   ]
  },
  {
   "cell_type": "code",
   "execution_count": null,
   "metadata": {},
   "outputs": [],
   "source": [
    "#Dataset for Population \n",
    "\n",
    "url3 = \"https://data.wprdc.org/dataset/5b18c198-474c-4723-b735-cc5220ad43cc/resource/82f29015-6905-4b1c-8300-afe9bb2231b3/download/total-population.csv\"\n",
    "population = pd.read_csv(url3)"
   ]
  },
  {
   "cell_type": "code",
   "execution_count": null,
   "metadata": {},
   "outputs": [],
   "source": [
    "#Find out what data is in the datasets\n",
    "\n",
    "for population_data in population:\n",
    "    print(population_data)"
   ]
  },
  {
   "cell_type": "code",
   "execution_count": null,
   "metadata": {},
   "outputs": [],
   "source": [
    "for neighborhood in area:\n",
    "    print(neighborhood)"
   ]
  },
  {
   "cell_type": "code",
   "execution_count": null,
   "metadata": {},
   "outputs": [],
   "source": [
    "#Create two new datasets by taking only the Population and Area of the Neighborhoods\n",
    "\n",
    "populationNew = pd.DataFrame(population,columns=['Neighborhood','Estimate; Total'])\n",
    "populationNew.rename(columns = {'Estimate; Total':'Population'}, inplace = True)\n",
    "print(populationNew)"
   ]
  },
  {
   "cell_type": "code",
   "execution_count": null,
   "metadata": {},
   "outputs": [],
   "source": [
    "pittNeighborhoods = pd.DataFrame(area, columns = ['hood', 'area'])\n",
    "\n",
    "#Dividing the Area by 1000000 in order to make the units square meters\n",
    "pittNeighborhoods['area'] = (pittNeighborhoods['area']/10000000).round(5)\n",
    "print(pittNeighborhoods)\n"
   ]
  },
  {
   "cell_type": "code",
   "execution_count": null,
   "metadata": {},
   "outputs": [],
   "source": [
    "#Renaming the Columns in order to merge the two datasets together\n",
    "\n",
    "pittNeighborhoods.rename(columns = {'hood':'Neighborhood', 'area':'Area'}, inplace = True)\n",
    "finalPop = pd.merge(pittNeighborhoods, populationNew)\n"
   ]
  },
  {
   "cell_type": "code",
   "execution_count": null,
   "metadata": {},
   "outputs": [],
   "source": [
    "#Find the Population Density by dividing the population by the area\n",
    "\n",
    "finalPop['Density'] = (finalPop['Population']/finalPop['Area']).round(5)\n",
    "print(finalPop)"
   ]
  },
  {
   "cell_type": "code",
   "execution_count": null,
   "metadata": {},
   "outputs": [],
   "source": [
    "#Graphing the dataset by Density\n",
    "\n",
    "finalPop.plot.barh(x = 'Neighborhood', y = 'Density', figsize = (100,100))\n",
    "plt.title(\"Population Density of Pittsburgh Neighborhoods\") \n",
    "plt.xlabel(\"Population Density\")\n",
    "\n",
    "plt.yticks(rotation=30, horizontalalignment=\"center\")"
   ]
  },
  {
   "cell_type": "markdown",
   "metadata": {},
   "source": [
    "There are about 90 neighborhoods in Pittsburgh, we need to be able to clearly see population densities without having to read through every neighborhood. Let's use a heatmap to visualize this better."
   ]
  },
  {
   "cell_type": "code",
   "execution_count": null,
   "metadata": {},
   "outputs": [],
   "source": [
    "\n",
    "\n",
    "map = gpd.read_file(\"population.geojson\")\n",
    "geo_df = finalPop[\"Density\"]\n",
    "map.plot(column = geo_df, figsize = (12,12), legend = True, cmap = \"winter\").set_axis_off()"
   ]
  },
  {
   "cell_type": "markdown",
   "metadata": {},
   "source": [
    "There are very obvious places that stand out that have the highest population density. However, we must be a picky with the best neighborhood. We can't allow Spider-Man in a place where he can't handle so many at the same time but we also can't allow him in a place where there is no one. In order to solve this, let's narrow the neighborhoods by how close they are to the median of all population densities. "
   ]
  },
  {
   "cell_type": "code",
   "execution_count": null,
   "metadata": {},
   "outputs": [],
   "source": [
    "#Creating a box plot in order to find the average population density among the neighborhoods\n",
    "\n",
    "finalPop.plot.box(y = 'Density')"
   ]
  },
  {
   "cell_type": "code",
   "execution_count": null,
   "metadata": {},
   "outputs": [],
   "source": [
    "#Finding out the median and upper and lower quartiles of the box plot\n",
    "\n",
    "median = finalPop['Density'].median()\n",
    "q1 = finalPop['Density'].quantile(q = 0.25)\n",
    "q3 = finalPop['Density'].quantile(q = 0.75)\n",
    "\n",
    "print(median)\n",
    "print(q1)\n",
    "print(q3)"
   ]
  },
  {
   "cell_type": "markdown",
   "metadata": {},
   "source": [
    "We now know the median and lower and upper quartile of all of population densities. Let's use the lower and upper quartile as the upper and lower boundaries in order to narrow down the neighborhoods."
   ]
  },
  {
   "cell_type": "code",
   "execution_count": null,
   "metadata": {},
   "outputs": [],
   "source": [
    "#Filtering Dataset to find a neighborhood closest to the median\n",
    "\n",
    "realFinal = finalPop[finalPop['Density'] <=q3]\n",
    "srsFinal = realFinal[realFinal['Density']>=q1]"
   ]
  },
  {
   "cell_type": "code",
   "execution_count": null,
   "metadata": {},
   "outputs": [],
   "source": [
    "print(srsFinal)"
   ]
  },
  {
   "cell_type": "markdown",
   "metadata": {},
   "source": [
    "Wow there are still so many, which makes sense. In a box plot most of the data is located in between the upper and lower quartile. Lets narrow down the boundaries to about 100 less and 100 more from the median. "
   ]
  },
  {
   "cell_type": "code",
   "execution_count": null,
   "metadata": {},
   "outputs": [],
   "source": [
    "thinkFinal = realFinal[realFinal['Density']>= 1900]\n",
    "notFinal = thinkFinal[thinkFinal['Density']<=2100]\n",
    "print(notFinal)"
   ]
  },
  {
   "cell_type": "markdown",
   "metadata": {},
   "source": [
    "This narrowed down the results dramatically to 7 results. Let's plot these neighborhoods and see which one is the closest to the median. "
   ]
  },
  {
   "cell_type": "code",
   "execution_count": null,
   "metadata": {},
   "outputs": [],
   "source": [
    "\n",
    "\n",
    "notFinal.plot.barh(x = 'Neighborhood', y = 'Density')\n",
    "plt.title(\"Population Density of Pittsburgh Neighborhoods\") \n",
    "plt.xlabel(\"Population Density\")\n",
    "plt.ylabel(\"Pittsburgh Neighborhoods\")\n",
    "\n",
    "plt.axvline(x = median, color = 'k')"
   ]
  },
  {
   "cell_type": "markdown",
   "metadata": {},
   "source": [
    "The closest to the median is Beechview. We could end it here, however, it feels a little too easy. There were a lot of outliers in the box plot and the box plot doesn't account for them. Let's use the mean of the population densities since that brings into account all of the neighborhoods. "
   ]
  },
  {
   "cell_type": "code",
   "execution_count": null,
   "metadata": {},
   "outputs": [],
   "source": [
    "#Finding the average of all of the population densities\n",
    "\n",
    "average = finalPop['Density'].mean()\n",
    "print(average)"
   ]
  },
  {
   "cell_type": "markdown",
   "metadata": {},
   "source": [
    "Just like before, we can use 100 less and 100 more of the average in order to narrow down the neighborhoods and plot them to visualize which neighborhood is the closest to the average. "
   ]
  },
  {
   "cell_type": "code",
   "execution_count": null,
   "metadata": {},
   "outputs": [],
   "source": [
    "#Filtering neighborhoods closest to the average\n",
    "\n",
    "averageFinal = finalPop[finalPop['Density'] <= (average+100)]\n",
    "averFinal = averageFinal[averageFinal['Density']>=(average-100)]\n",
    "\n"
   ]
  },
  {
   "cell_type": "code",
   "execution_count": null,
   "metadata": {},
   "outputs": [],
   "source": [
    "averFinal.plot.barh(x = 'Neighborhood', y = 'Density')\n",
    "plt.title(\"Population Density of Pittsburgh Neighborhoods\") \n",
    "plt.xlabel(\"Population Density\")\n",
    "plt.ylabel(\"Pittsburgh Neighborhoods\")\n",
    "plt.axvline(x = average, color = 'k')"
   ]
  },
  {
   "cell_type": "markdown",
   "metadata": {},
   "source": [
    "We can see that Brookline is the closest to the average, making it the best neighborhood for Spider-Man to be in due to the accountability for all of the densities. "
   ]
  }
 ],
 "metadata": {
  "kernelspec": {
   "display_name": "Python 3",
   "language": "python",
   "name": "python3"
  },
  "language_info": {
   "codemirror_mode": {
    "name": "ipython",
    "version": 3
   },
   "file_extension": ".py",
   "mimetype": "text/x-python",
   "name": "python",
   "nbconvert_exporter": "python",
   "pygments_lexer": "ipython3",
   "version": "3.8.3"
  }
 },
 "nbformat": 4,
 "nbformat_minor": 4
}
