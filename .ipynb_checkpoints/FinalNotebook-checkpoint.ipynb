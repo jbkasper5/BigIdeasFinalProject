{
 "cells": [
  {
   "cell_type": "markdown",
   "metadata": {},
   "source": [
    "## Introduction"
   ]
  },
  {
   "cell_type": "markdown",
   "metadata": {},
   "source": []
  },
  {
   "cell_type": "markdown",
   "metadata": {},
   "source": [
    "## The Metric"
   ]
  },
  {
   "cell_type": "markdown",
   "metadata": {},
   "source": [
    "The metric we decided to go with was: the best neighborhood for Spider-Man"
   ]
  },
  {
   "cell_type": "markdown",
   "metadata": {},
   "source": [
    "## The Best Neighborhood"
   ]
  },
  {
   "cell_type": "markdown",
   "metadata": {},
   "source": [
    "First, we will include all of our collective necessary imports."
   ]
  },
  {
   "cell_type": "code",
   "execution_count": 2,
   "metadata": {},
   "outputs": [],
   "source": [
    "import pandas as pd\n",
    "import numpy as np\n",
    "import geopandas as gpd"
   ]
  },
  {
   "cell_type": "markdown",
   "metadata": {},
   "source": [
    "### The **Crime** Metric"
   ]
  },
  {
   "cell_type": "code",
   "execution_count": null,
   "metadata": {},
   "outputs": [],
   "source": [
    "police = pd.read_csv(\"arrestdata.csv\",sep = \",\")\n",
    "\n",
    "arrest_dict = {}\n",
    "\n",
    "for hood, arrest in zip(police[\"INCIDENTNEIGHBORHOOD\"],police[\"OFFENSES\"]):\n",
    "    #Checks if the arrest is a major crime with the categories I chose \n",
    "    if (isinstance(arrest, str) and isinstance(hood, str) and ('Damages' in arrest or 'Murder' in arrest or 'Endangering' in arrest or \n",
    "    'Assault' in arrest or 'Theft' in arrest or 'Burglary' in arrest or 'Robbery' in arrest or 'Terrorist' in arrest)):\n",
    "        if hood in arrest_dict and hood != '':\n",
    "            arrest_dict[hood] += 1\n",
    "        else:\n",
    "            arrest_dict[hood] = 1"
   ]
  },
  {
   "cell_type": "markdown",
   "metadata": {},
   "source": [
    "### The **Population** Metric"
   ]
  },
  {
   "cell_type": "code",
   "execution_count": null,
   "metadata": {},
   "outputs": [],
   "source": [
    "area = pd.read_csv(neighborhoodareas.csv)\n",
    "population = pd.read_csv(total-population.csv)\n",
    "populationNew = pd.DataFrame(population,columns=['Neighborhood','Estimate; Total'])\n",
    "populationNew.rename(columns = {'Estimate; Total':'Population'}, inplace = True)\n",
    "pittNeighborhoods = pd.DataFrame(area, columns = ['hood', 'area'])\n",
    "pittNeighborhoods['area'] = (pittNeighborhoods['area']/10000000).round(5)\n",
    "pittNeighborhoods.rename(columns = {'hood':'Neighborhood', 'area':'Area'}, inplace = True)\n",
    "finalPop = pd.merge(pittNeighborhoods, populationNew)\n",
    "finalPop['Density'] = (finalPop['Population']/finalPop['Area']).round(5)"
   ]
  },
  {
   "cell_type": "markdown",
   "metadata": {},
   "source": [
    "### The **Size** Metric"
   ]
  },
  {
   "cell_type": "markdown",
   "metadata": {},
   "source": [
    "More details can be found in the **size.ipynb** notebook, so for now, we'll just pull in the necessary data we need to perform the final analysis."
   ]
  },
  {
   "cell_type": "code",
   "execution_count": 7,
   "metadata": {},
   "outputs": [],
   "source": [
    "# read in our data from a csv\n",
    "size_df = pd.read_csv(\"Neighborhoods.csv\", sep = \",\")\n",
    "\n",
    "# read in the necessary geopandas data from the shape file for the map of Pittsburgh\n",
    "geo_size = gpd.read_file(\"Neighborhoods_.shp\")"
   ]
  },
  {
   "cell_type": "markdown",
   "metadata": {},
   "source": [
    "### The Final Decision"
   ]
  },
  {
   "cell_type": "markdown",
   "metadata": {},
   "source": [
    "Here is where we'll combine all of our data from the three seperate metrics to perform our final analysis and pick the best Spider-Man friendly neighborhood in Pittsburgh. "
   ]
  },
  {
   "cell_type": "markdown",
   "metadata": {},
   "source": [
    "## Conclusion"
   ]
  },
  {
   "cell_type": "code",
   "execution_count": null,
   "metadata": {},
   "outputs": [],
   "source": []
  }
 ],
 "metadata": {
  "kernelspec": {
   "display_name": "Python 3",
   "language": "python",
   "name": "python3"
  },
  "language_info": {
   "codemirror_mode": {
    "name": "ipython",
    "version": 3
   },
   "file_extension": ".py",
   "mimetype": "text/x-python",
   "name": "python",
   "nbconvert_exporter": "python",
   "pygments_lexer": "ipython3",
   "version": "3.8.3"
  }
 },
 "nbformat": 4,
 "nbformat_minor": 4
}
